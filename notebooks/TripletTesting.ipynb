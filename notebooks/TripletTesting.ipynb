{
 "cells": [
  {
   "cell_type": "markdown",
   "metadata": {},
   "source": [
    "# Libraries"
   ]
  },
  {
   "cell_type": "code",
   "execution_count": null,
   "metadata": {
    "collapsed": false,
    "jupyter": {
     "outputs_hidden": false
    }
   },
   "outputs": [],
   "source": [
    "import os\n",
    "os.environ['CUDA_VISIBLE_DEVICES'] = '-1'\n",
    "\n",
    "import tensorflow as tf\n",
    "import numpy as np\n",
    "import pandas as pd\n",
    "import matplotlib.pyplot as plt\n",
    "import tflearn, h5py, cv2, itertools\n",
    "from sklearn.metrics import confusion_matrix\n",
    "\n",
    "import sys\n",
    "sys.path.append('..')\n",
    "from src.models.cnn_model import CNNModel"
   ]
  },
  {
   "cell_type": "code",
   "execution_count": 2,
   "metadata": {},
   "outputs": [],
   "source": [
    "def get_metrics(Y_test_labels, label_predictions):\n",
    "    cm = confusion_matrix(Y_test_labels[:,1], label_predictions[:,1])\n",
    "    TN = cm[0][0]\n",
    "    FP = cm[0][1]\n",
    "    FN = cm[1][0]\n",
    "    TP = cm[1][1]\n",
    "\n",
    "    precision = TP*1.0/(TP+FP)\n",
    "    recall = TP*1.0/(TP+FN)\n",
    "    specificity = TN*1.0/(TN+FP)\n",
    "    return precision, recall, specificity, cm"
   ]
  },
  {
   "cell_type": "code",
   "execution_count": 3,
   "metadata": {},
   "outputs": [],
   "source": [
    "def plot_confusion_matrix(cm, classes, normalize=False, title='Confusion matrix', cmap=plt.cm.Purples):\n",
    "    plt.imshow(cm, interpolation='nearest', cmap=cmap)\n",
    "    plt.title(title)\n",
    "    tick_marks = np.arange(len(classes))\n",
    "    plt.xticks(tick_marks, classes, rotation=45)\n",
    "    plt.yticks(tick_marks, classes)\n",
    "\n",
    "    if normalize:\n",
    "        cm = cm.astype('float') / cm.sum(axis=1)[:, np.newaxis]\n",
    "\n",
    "    thresh = cm.max() / 2.\n",
    "    for i, j in itertools.product(range(cm.shape[0]), range(cm.shape[1])):\n",
    "        plt.text(j, i, cm[i, j],\n",
    "            horizontalalignment=\"center\",\n",
    "            color=\"white\" if cm[i, j] > thresh else \"black\")\n",
    "\n",
    "    plt.tight_layout()\n",
    "    plt.ylabel('True label')\n",
    "    plt.xlabel('Predicted label')"
   ]
  },
  {
   "cell_type": "markdown",
   "metadata": {},
   "source": [
    "# Build components"
   ]
  },
  {
   "cell_type": "code",
   "execution_count": 4,
   "metadata": {},
   "outputs": [
    {
     "name": "stdout",
     "output_type": "stream",
     "text": [
      "X_train_images (5187, 50, 50, 1)\n",
      "Y_train_labels (5187, 2)\n"
     ]
    }
   ],
   "source": [
    "# Dataset\n",
    "\n",
    "h5f = h5py.File('../src/data/train.h5', 'r')\n",
    "X_train_images = h5f['X']\n",
    "Y_train_labels = h5f['Y']\n",
    "\n",
    "print(\"X_train_images\", X_train_images.shape)\n",
    "print(\"Y_train_labels\", Y_train_labels.shape)"
   ]
  },
  {
   "cell_type": "code",
   "execution_count": 5,
   "metadata": {
    "collapsed": false,
    "jupyter": {
     "outputs_hidden": false
    }
   },
   "outputs": [
    {
     "name": "stdout",
     "output_type": "stream",
     "text": [
      "WARNING:tensorflow:From /home/cybercore/.virtualenvs/lungcancer/lib/python3.6/site-packages/tflearn/initializations.py:119: UniformUnitScaling.__init__ (from tensorflow.python.ops.init_ops) is deprecated and will be removed in a future version.\n",
      "Instructions for updating:\n",
      "Use tf.initializers.variance_scaling instead with distribution=uniform to get equivalent behavior.\n",
      "WARNING:tensorflow:From /home/cybercore/.virtualenvs/lungcancer/lib/python3.6/site-packages/tflearn/layers/core.py:239: calling dropout (from tensorflow.python.ops.nn_ops) with keep_prob is deprecated and will be removed in a future version.\n",
      "Instructions for updating:\n",
      "Please use `rate` instead of `keep_prob`. Rate should be set to `rate = 1 - keep_prob`.\n",
      "WARNING:tensorflow:From /home/cybercore/.virtualenvs/lungcancer/lib/python3.6/site-packages/tflearn/objectives.py:66: calling reduce_sum_v1 (from tensorflow.python.ops.math_ops) with keep_dims is deprecated and will be removed in a future version.\n",
      "Instructions for updating:\n",
      "keep_dims is deprecated, use keepdims instead\n",
      "[CNNModel] Build model with attention_ratio: 1.0\n",
      "[CNNModel] Build model with TripletLoss: False; HardMining: False\n",
      "WARNING:tensorflow:From /home/cybercore/.virtualenvs/lungcancer/lib/python3.6/site-packages/tensorflow/python/ops/math_ops.py:3066: to_int32 (from tensorflow.python.ops.math_ops) is deprecated and will be removed in a future version.\n",
      "Instructions for updating:\n",
      "Use tf.cast instead.\n",
      "WARNING:tensorflow:From /home/cybercore/.virtualenvs/lungcancer/lib/python3.6/site-packages/tensorflow/python/training/saver.py:1266: checkpoint_exists (from tensorflow.python.training.checkpoint_management) is deprecated and will be removed in a future version.\n",
      "Instructions for updating:\n",
      "Use standard file APIs to check for files with this prefix.\n",
      "INFO:tensorflow:Restoring parameters from /home/cybercore/thuync/LungCancerDetection/ckpt/attention1.0_softmax_bs8_ep200_new/nodule3-classifier.ckpt9575\n"
     ]
    }
   ],
   "source": [
    "# Model\n",
    "\n",
    "convnet  = CNNModel()\n",
    "network = convnet.define_network(\n",
    "    X_train_images, Y_train_labels, num_outputs=2, hidden_embedding=512,\n",
    "    use_pooling=True, use_bn=False, attention_ratio=1.0,\n",
    "    use_triplet=False, triplet_hard_mining=False,\n",
    ")\n",
    "model = tflearn.DNN(network)\n",
    "\n",
    "ckpt = tf.train.latest_checkpoint(\"../ckpt/attention1.0_softmax_bs8_ep200_new\")\n",
    "model.load(ckpt)"
   ]
  },
  {
   "cell_type": "markdown",
   "metadata": {},
   "source": [
    "# Get clusters"
   ]
  },
  {
   "cell_type": "code",
   "execution_count": 6,
   "metadata": {},
   "outputs": [
    {
     "name": "stdout",
     "output_type": "stream",
     "text": [
      "preds (5187, 2)\n"
     ]
    }
   ],
   "source": [
    "# Inference\n",
    "\n",
    "preds = model.predict(X_train_images[:,:,:,:])\n",
    "print(\"preds\", preds.shape)"
   ]
  },
  {
   "cell_type": "code",
   "execution_count": 7,
   "metadata": {},
   "outputs": [
    {
     "name": "stdout",
     "output_type": "stream",
     "text": [
      "(845, 2) (4342, 2)\n",
      "avg_pos_embedding [0.03938963 0.9606105 ]\n",
      "avg_neg_embedding [0.9946975  0.00530585]\n"
     ]
    }
   ],
   "source": [
    "# Get clusters\n",
    "\n",
    "pos_indicator = Y_train_labels[:,1]==1\n",
    "neg_indicator = Y_train_labels[:,0]==1\n",
    "\n",
    "pos_embeddings = preds[pos_indicator,:]\n",
    "neg_embeddings = preds[neg_indicator,:]\n",
    "print(pos_embeddings.shape, neg_embeddings.shape)\n",
    "\n",
    "avg_pos_embedding = pos_embeddings.mean(axis=0)\n",
    "avg_neg_embedding = neg_embeddings.mean(axis=0)\n",
    "print(\"avg_pos_embedding\", avg_pos_embedding)\n",
    "print(\"avg_neg_embedding\", avg_neg_embedding)"
   ]
  },
  {
   "cell_type": "markdown",
   "metadata": {},
   "source": [
    "# Testing"
   ]
  },
  {
   "cell_type": "code",
   "execution_count": 8,
   "metadata": {},
   "outputs": [
    {
     "name": "stdout",
     "output_type": "stream",
     "text": [
      "X_test_images (1622, 50, 50, 1)\n",
      "Y_test_labels (1622, 2)\n"
     ]
    }
   ],
   "source": [
    "# Dataset\n",
    "\n",
    "h5f2 = h5py.File('../src/data/test.h5', 'r')\n",
    "X_test_images = h5f2['X']\n",
    "Y_test_labels = h5f2['Y']\n",
    "\n",
    "print(\"X_test_images\", X_test_images.shape)\n",
    "print(\"Y_test_labels\", Y_test_labels.shape)"
   ]
  },
  {
   "cell_type": "code",
   "execution_count": 9,
   "metadata": {},
   "outputs": [
    {
     "name": "stdout",
     "output_type": "stream",
     "text": [
      "embeddings (1622, 2)\n"
     ]
    }
   ],
   "source": [
    "# Inference\n",
    "\n",
    "embeddings = model.predict(X_test_images[:,:,:,:])\n",
    "print(\"embeddings\", embeddings.shape)"
   ]
  },
  {
   "cell_type": "code",
   "execution_count": 10,
   "metadata": {},
   "outputs": [
    {
     "name": "stdout",
     "output_type": "stream",
     "text": [
      "neg_ratio: 0.845252774352651\n",
      "pos_ratio: 0.15474722564734894\n"
     ]
    }
   ],
   "source": [
    "# Cluster\n",
    "\n",
    "pos_dists = ((embeddings-avg_pos_embedding)**2).sum(axis=1)[:,np.newaxis]\n",
    "neg_dists = ((embeddings-avg_neg_embedding)**2).sum(axis=1)[:,np.newaxis]\n",
    "dists = np.hstack([neg_dists, pos_dists])\n",
    "pred_indicies = np.argmin(dists, axis=1)\n",
    "neg_pred_indicies = np.argmax(dists, axis=1)\n",
    "\n",
    "print(\"neg_ratio:\", (pred_indicies==0).sum() / pred_indicies.size)\n",
    "print(\"pos_ratio:\", (pred_indicies==1).sum() / pred_indicies.size)"
   ]
  },
  {
   "cell_type": "code",
   "execution_count": 11,
   "metadata": {},
   "outputs": [
    {
     "name": "stdout",
     "output_type": "stream",
     "text": [
      "precision: 0.9243027888446215\n",
      "recall: 0.8226950354609929\n",
      "specificity: 0.985820895522388\n"
     ]
    }
   ],
   "source": [
    "# Metrics\n",
    "\n",
    "predictions = np.hstack([neg_pred_indicies[:,np.newaxis], pred_indicies[:,np.newaxis]])\n",
    "precision, recall, specificity, cm = get_metrics(Y_test_labels, predictions)\n",
    "print(\"precision:\", precision)\n",
    "print(\"recall:\", recall)\n",
    "print(\"specificity:\", specificity)\n",
    "\n",
    "# plt.figure(figsize=(10,15))\n",
    "# plot_confusion_matrix(cm, classes=['no-nodule', 'nodule'], title='Confusion matrix')\n",
    "# plt.show()"
   ]
  },
  {
   "cell_type": "markdown",
   "metadata": {},
   "source": [
    "# Visualize embeddings"
   ]
  },
  {
   "cell_type": "code",
   "execution_count": 12,
   "metadata": {},
   "outputs": [
    {
     "data": {
      "image/png": "[encoded data removed]",
      "text/plain": [
       "<Figure size 720x720 with 1 Axes>"
      ]
     },
     "metadata": {
      "needs_background": "light"
     },
     "output_type": "display_data"
    }
   ],
   "source": [
    "plt.figure(figsize=(10,10))\n",
    "plt.scatter(pos_embeddings[:,0], pos_embeddings[:,1], marker='o', alpha=0.5)\n",
    "plt.scatter(neg_embeddings[:,0], neg_embeddings[:,1], marker='+', alpha=0.5)\n",
    "\n",
    "plt.scatter(avg_pos_embedding[0], avg_pos_embedding[1], s=500, marker='^', alpha=1.0)\n",
    "plt.scatter(avg_neg_embedding[0], avg_neg_embedding[1], s=500, marker='x', alpha=1.0)\n",
    "plt.show()"
   ]
  },
  {
   "cell_type": "code",
   "execution_count": 13,
   "metadata": {},
   "outputs": [
    {
     "name": "stdout",
     "output_type": "stream",
     "text": [
      "(1622, 2) (1340, 2) (282, 2)\n"
     ]
    },
    {
     "data": {
      "image/png": "[encoded data removed]",
      "text/plain": [
       "<Figure size 720x720 with 1 Axes>"
      ]
     },
     "metadata": {
      "needs_background": "light"
     },
     "output_type": "display_data"
    }
   ],
   "source": [
    "test_label = Y_test_labels[()].astype('bool')\n",
    "n_emb = embeddings[test_label[:,0], :]\n",
    "p_emb = embeddings[test_label[:,1], :]\n",
    "print(test_label.shape, n_emb.shape, p_emb.shape)\n",
    "\n",
    "plt.figure(figsize=(10,10))\n",
    "plt.scatter(p_emb[:,0], p_emb[:,1], marker='o', alpha=0.5)\n",
    "plt.scatter(n_emb[:,0], n_emb[:,1], marker='+', alpha=0.5)\n",
    "\n",
    "plt.scatter(avg_pos_embedding[0], avg_pos_embedding[1], s=500, marker='^', alpha=1.0)\n",
    "plt.scatter(avg_neg_embedding[0], avg_neg_embedding[1], s=500, marker='x', alpha=1.0)\n",
    "plt.show()"
   ]
  },
  {
   "cell_type": "code",
   "execution_count": null,
   "metadata": {},
   "outputs": [],
   "source": []
  }
 ],
 "metadata": {
  "kernelspec": {
   "display_name": "lungcancer",
   "language": "python",
   "name": "lungcancer"
  },
  "language_info": {
   "codemirror_mode": {
    "name": "ipython",
    "version": 3
   },
   "file_extension": ".py",
   "mimetype": "text/x-python",
   "name": "python",
   "nbconvert_exporter": "python",
   "pygments_lexer": "ipython3",
   "version": "3.6.12"
  }
 },
 "nbformat": 4,
 "nbformat_minor": 4
}
